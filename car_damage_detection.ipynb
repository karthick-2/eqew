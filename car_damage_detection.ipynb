{
  "cells": [
    {
      "cell_type": "markdown",
      "metadata": {
        "id": "view-in-github",
        "colab_type": "text"
      },
      "source": [
        "<a href=\"https://colab.research.google.com/github/karthick-2/eqew/blob/main/car_damage_detection.ipynb\" target=\"_parent\"><img src=\"https://colab.research.google.com/assets/colab-badge.svg\" alt=\"Open In Colab\"/></a>"
      ]
    },
    {
      "cell_type": "markdown",
      "id": "ca79c69f",
      "metadata": {
        "papermill": {
          "duration": 0.020886,
          "end_time": "2021-11-25T08:28:30.764169",
          "exception": false,
          "start_time": "2021-11-25T08:28:30.743283",
          "status": "completed"
        },
        "tags": [],
        "id": "ca79c69f"
      },
      "source": [
        "# Building Damage Classifier\n",
        "\n",
        "### Approach \n",
        "\n",
        "Since, i have not given a csv or json file with labels so i have to generate them. Now all the given images have different sizes i have to augment then into a specific size. As for model , i use diffenent model and choose the one with better accuracy. I choose Resnext50 model by changing its classifier.\n",
        "I use hit and trial method for choosing number of epochs. And for validation data, random indexes were generated. After training , i saved the model weights in a  pickle file.\n",
        "\n",
        "### Augmentation Policy \n",
        "\n",
        "For augmentation i used,\n",
        "\n",
        "`->` Resize - As images are of different size, i fixed their size to (128,128) pixels.\n",
        "\n",
        "`->` I have used random horizontal flip and random vertical flip to flip images\n",
        "\n",
        "`->` And finally , i converted images to tensors.\n",
        "\n",
        "### Evaluation Metrics\n",
        "\n",
        "I used accuracy as my evaluation metrics, since it describes how good the model is doing on validation and test data much better and it is easy to use and easy to understand."
      ]
    },
    {
      "cell_type": "markdown",
      "source": [
        "# New Section"
      ],
      "metadata": {
        "id": "IRu9Pl0jXmX5"
      },
      "id": "IRu9Pl0jXmX5"
    },
    {
      "cell_type": "markdown",
      "source": [
        "# New Section"
      ],
      "metadata": {
        "id": "VHg-1VY8X3yJ"
      },
      "id": "VHg-1VY8X3yJ"
    },
    {
      "cell_type": "code",
      "source": [
        "from google.colab import drive\n",
        "drive.mount('/content/drive')"
      ],
      "metadata": {
        "colab": {
          "base_uri": "https://localhost:8080/"
        },
        "id": "JhrUS8j1YfJ5",
        "outputId": "0b2274e0-0d07-45d8-f8b0-b7d5701399e3"
      },
      "id": "JhrUS8j1YfJ5",
      "execution_count": 1,
      "outputs": [
        {
          "output_type": "stream",
          "name": "stdout",
          "text": [
            "Mounted at /content/drive\n"
          ]
        }
      ]
    },
    {
      "cell_type": "code",
      "execution_count": 2,
      "id": "023107d3",
      "metadata": {
        "execution": {
          "iopub.execute_input": "2021-11-25T08:28:30.806997Z",
          "iopub.status.busy": "2021-11-25T08:28:30.806227Z",
          "iopub.status.idle": "2021-11-25T08:28:31.006047Z",
          "shell.execute_reply": "2021-11-25T08:28:31.006516Z",
          "shell.execute_reply.started": "2021-11-25T04:32:05.517094Z"
        },
        "papermill": {
          "duration": 0.225829,
          "end_time": "2021-11-25T08:28:31.006762",
          "exception": false,
          "start_time": "2021-11-25T08:28:30.780933",
          "status": "completed"
        },
        "tags": [],
        "colab": {
          "base_uri": "https://localhost:8080/",
          "height": 202
        },
        "id": "023107d3",
        "outputId": "9cc23822-2b29-4be7-8d83-0ad1101eebfb"
      },
      "outputs": [
        {
          "output_type": "error",
          "ename": "AttributeError",
          "evalue": "ignored",
          "traceback": [
            "\u001b[0;31m---------------------------------------------------------------------------\u001b[0m",
            "\u001b[0;31mAttributeError\u001b[0m                            Traceback (most recent call last)",
            "\u001b[0;32m<ipython-input-2-398020181846>\u001b[0m in \u001b[0;36m<module>\u001b[0;34m()\u001b[0m\n\u001b[1;32m      1\u001b[0m \u001b[0;32mimport\u001b[0m \u001b[0mcv2\u001b[0m\u001b[0;34m\u001b[0m\u001b[0;34m\u001b[0m\u001b[0m\n\u001b[1;32m      2\u001b[0m \u001b[0mimg\u001b[0m \u001b[0;34m=\u001b[0m \u001b[0mcv2\u001b[0m\u001b[0;34m.\u001b[0m\u001b[0mimread\u001b[0m\u001b[0;34m(\u001b[0m\u001b[0;34m\"/home/k/Downloads/data1a/training/00-damage/0001.JPEG\"\u001b[0m\u001b[0;34m)\u001b[0m\u001b[0;34m\u001b[0m\u001b[0;34m\u001b[0m\u001b[0m\n\u001b[0;32m----> 3\u001b[0;31m \u001b[0mimg\u001b[0m\u001b[0;34m.\u001b[0m\u001b[0mshape\u001b[0m\u001b[0;34m\u001b[0m\u001b[0;34m\u001b[0m\u001b[0m\n\u001b[0m",
            "\u001b[0;31mAttributeError\u001b[0m: 'NoneType' object has no attribute 'shape'"
          ]
        }
      ],
      "source": [
        "import cv2\n",
        "img = cv2.imread(\"/home/k/Downloads/data1a/training/00-damage/0001.JPEG\")\n",
        "img.shape"
      ]
    },
    {
      "cell_type": "code",
      "execution_count": null,
      "id": "443e2eb9",
      "metadata": {
        "_cell_guid": "b1076dfc-b9ad-4769-8c92-a6c4dae69d19",
        "_uuid": "8f2839f25d086af736a60e9eeb907d3b93b6e0e5",
        "execution": {
          "iopub.execute_input": "2021-11-25T08:28:31.044293Z",
          "iopub.status.busy": "2021-11-25T08:28:31.043731Z",
          "iopub.status.idle": "2021-11-25T08:28:41.900285Z",
          "shell.execute_reply": "2021-11-25T08:28:41.898950Z",
          "shell.execute_reply.started": "2021-11-25T03:02:24.383958Z"
        },
        "papermill": {
          "duration": 10.877097,
          "end_time": "2021-11-25T08:28:41.900428",
          "exception": false,
          "start_time": "2021-11-25T08:28:31.023331",
          "status": "completed"
        },
        "tags": [],
        "id": "443e2eb9",
        "outputId": "3768b266-3cd6-4134-de3b-bd9ff012e799"
      },
      "outputs": [
        {
          "name": "stdout",
          "output_type": "stream",
          "text": [
            "Collecting timm\n",
            "  Downloading timm-0.4.12-py3-none-any.whl (376 kB)\n",
            "     |████████████████████████████████| 376 kB 3.1 MB/s            \n",
            "\u001b[?25hRequirement already satisfied: torch>=1.4 in /usr/local/lib/python3.9/dist-packages (from timm) (1.10.0)\n",
            "Requirement already satisfied: torchvision in /usr/local/lib/python3.9/dist-packages (from timm) (0.11.1)\n",
            "Requirement already satisfied: typing-extensions in /usr/lib/python3/dist-packages (from torch>=1.4->timm) (3.10.0.2)\n",
            "Requirement already satisfied: pillow!=8.3.0,>=5.3.0 in /usr/local/lib/python3.9/dist-packages (from torchvision->timm) (9.0.0)\n",
            "Requirement already satisfied: numpy in /usr/local/lib/python3.9/dist-packages (from torchvision->timm) (1.21.4)\n",
            "Installing collected packages: timm\n",
            "Successfully installed timm-0.4.12\n",
            "\u001b[33mWARNING: Running pip as the 'root' user can result in broken permissions and conflicting behaviour with the system package manager. It is recommended to use a virtual environment instead: https://pip.pypa.io/warnings/venv\u001b[0m\n"
          ]
        }
      ],
      "source": [
        "!pip install timm"
      ]
    },
    {
      "cell_type": "code",
      "execution_count": null,
      "id": "1bdb4bd1",
      "metadata": {
        "execution": {
          "iopub.execute_input": "2021-11-25T08:28:41.949087Z",
          "iopub.status.busy": "2021-11-25T08:28:41.947070Z",
          "iopub.status.idle": "2021-11-25T08:28:49.915779Z",
          "shell.execute_reply": "2021-11-25T08:28:49.915147Z",
          "shell.execute_reply.started": "2021-11-25T08:04:44.349295Z"
        },
        "papermill": {
          "duration": 7.995013,
          "end_time": "2021-11-25T08:28:49.915904",
          "exception": false,
          "start_time": "2021-11-25T08:28:41.920891",
          "status": "completed"
        },
        "tags": [],
        "id": "1bdb4bd1"
      },
      "outputs": [],
      "source": [
        "import torch\n",
        "from torch import nn\n",
        "from torch.utils.data import DataLoader\n",
        "from torch.utils.data.sampler import SubsetRandomSampler\n",
        "import pandas as pd\n",
        "import matplotlib.pyplot as plt\n",
        "import numpy as np\n",
        "import warnings\n",
        "import random\n",
        "import timm\n",
        "import torchvision\n",
        "from torchvision import transforms\n",
        "from tqdm import tqdm\n",
        "import os\n",
        "from torchvision.datasets import ImageFolder\n",
        "from albumentations.pytorch import ToTensorV2\n",
        "import albumentations\n",
        "import pickle\n",
        "\n",
        "\n",
        "from sklearn.metrics import accuracy_score\n",
        "\n",
        "\n",
        "warnings.filterwarnings(\"ignore\")"
      ]
    },
    {
      "cell_type": "code",
      "execution_count": null,
      "id": "04394fb6",
      "metadata": {
        "execution": {
          "iopub.execute_input": "2021-11-25T08:28:49.962207Z",
          "iopub.status.busy": "2021-11-25T08:28:49.961662Z",
          "iopub.status.idle": "2021-11-25T08:28:49.967675Z",
          "shell.execute_reply": "2021-11-25T08:28:49.967164Z",
          "shell.execute_reply.started": "2021-11-25T04:40:57.840099Z"
        },
        "papermill": {
          "duration": 0.031398,
          "end_time": "2021-11-25T08:28:49.967792",
          "exception": false,
          "start_time": "2021-11-25T08:28:49.936394",
          "status": "completed"
        },
        "tags": [],
        "id": "04394fb6"
      },
      "outputs": [],
      "source": [
        "seed = 1000\n",
        "def seed_everything(seed):\n",
        "    random.seed(seed)\n",
        "    os.environ['PYTHONHASHSEED'] = str(seed)\n",
        "    np.random.seed(seed)\n",
        "    torch.manual_seed(seed)\n",
        "    torch.cuda.manual_seed(seed)\n",
        "\n",
        "seed_everything(seed)"
      ]
    },
    {
      "cell_type": "code",
      "execution_count": null,
      "id": "fc5736b6",
      "metadata": {
        "execution": {
          "iopub.execute_input": "2021-11-25T08:28:50.012705Z",
          "iopub.status.busy": "2021-11-25T08:28:50.010193Z",
          "iopub.status.idle": "2021-11-25T08:28:50.014687Z",
          "shell.execute_reply": "2021-11-25T08:28:50.015077Z",
          "shell.execute_reply.started": "2021-11-25T05:05:15.052653Z"
        },
        "papermill": {
          "duration": 0.027421,
          "end_time": "2021-11-25T08:28:50.015211",
          "exception": false,
          "start_time": "2021-11-25T08:28:49.987790",
          "status": "completed"
        },
        "tags": [],
        "id": "fc5736b6"
      },
      "outputs": [],
      "source": [
        "train_val_path = \"/home/k/Downloads/data1a/training\"\n",
        "transform=transforms.Compose([\n",
        "                                  transforms.Resize([128,128]),\n",
        "                                  transforms.RandomHorizontalFlip(p=0.5),\n",
        "                                  transforms.RandomVerticalFlip(p=0.5),\n",
        "                                  transforms.ToTensor()\n",
        "])"
      ]
    },
    {
      "cell_type": "code",
      "execution_count": null,
      "id": "3ea76a06",
      "metadata": {
        "execution": {
          "iopub.execute_input": "2021-11-25T08:28:50.058339Z",
          "iopub.status.busy": "2021-11-25T08:28:50.057786Z",
          "iopub.status.idle": "2021-11-25T08:28:50.276919Z",
          "shell.execute_reply": "2021-11-25T08:28:50.276412Z",
          "shell.execute_reply.started": "2021-11-25T05:05:15.255464Z"
        },
        "papermill": {
          "duration": 0.242019,
          "end_time": "2021-11-25T08:28:50.277039",
          "exception": false,
          "start_time": "2021-11-25T08:28:50.035020",
          "status": "completed"
        },
        "tags": [],
        "id": "3ea76a06"
      },
      "outputs": [],
      "source": [
        "dataset=ImageFolder(train_val_path,transform=transform)"
      ]
    },
    {
      "cell_type": "code",
      "execution_count": null,
      "id": "56977d36",
      "metadata": {
        "execution": {
          "iopub.execute_input": "2021-11-25T08:28:50.324886Z",
          "iopub.status.busy": "2021-11-25T08:28:50.324361Z",
          "iopub.status.idle": "2021-11-25T08:28:50.392413Z",
          "shell.execute_reply": "2021-11-25T08:28:50.393325Z",
          "shell.execute_reply.started": "2021-11-25T05:05:15.407684Z"
        },
        "papermill": {
          "duration": 0.094672,
          "end_time": "2021-11-25T08:28:50.393509",
          "exception": false,
          "start_time": "2021-11-25T08:28:50.298837",
          "status": "completed"
        },
        "tags": [],
        "id": "56977d36",
        "outputId": "8209ed21-4e6e-479f-b222-9a124057df2d"
      },
      "outputs": [
        {
          "name": "stdout",
          "output_type": "stream",
          "text": [
            "torch.Size([3, 128, 128]) 0\n",
            "torch.Size([3, 128, 128]) 0\n",
            "['00-damage', '01-whole']\n"
          ]
        }
      ],
      "source": [
        "img0,label0 = dataset[6]\n",
        "print(img0.shape,label0)\n",
        "img10,label10 = dataset[10]\n",
        "print(img10.shape,label10)\n",
        "print(dataset.classes)"
      ]
    },
    {
      "cell_type": "code",
      "execution_count": null,
      "id": "1f9f5149",
      "metadata": {
        "execution": {
          "iopub.execute_input": "2021-11-25T08:28:50.463396Z",
          "iopub.status.busy": "2021-11-25T08:28:50.440087Z",
          "iopub.status.idle": "2021-11-25T08:28:50.694147Z",
          "shell.execute_reply": "2021-11-25T08:28:50.694587Z",
          "shell.execute_reply.started": "2021-11-25T05:05:15.567421Z"
        },
        "papermill": {
          "duration": 0.27934,
          "end_time": "2021-11-25T08:28:50.694750",
          "exception": false,
          "start_time": "2021-11-25T08:28:50.415410",
          "status": "completed"
        },
        "tags": [],
        "id": "1f9f5149",
        "outputId": "af3c00bc-9291-4f5f-ea31-431a394db731"
      },
      "outputs": [
        {
          "name": "stdout",
          "output_type": "stream",
          "text": [
            "label: 0\n"
          ]
        },
        {
          "data": {
            "image/png": "[encoded data removed]",
            "text/plain": [
              "<Figure size 432x288 with 1 Axes>"
            ]
          },
          "metadata": {
            "needs_background": "light"
          },
          "output_type": "display_data"
        }
      ],
      "source": [
        "def show_img_with_label(img,label):\n",
        "    print(\"label:\" ,label)\n",
        "    plt.imshow(img.permute(1,2,0))\n",
        "    \n",
        "show_img_with_label(img0,label0)"
      ]
    },
    {
      "cell_type": "code",
      "execution_count": null,
      "id": "f4123c7e",
      "metadata": {
        "execution": {
          "iopub.execute_input": "2021-11-25T08:28:50.746279Z",
          "iopub.status.busy": "2021-11-25T08:28:50.745614Z",
          "iopub.status.idle": "2021-11-25T08:28:50.748625Z",
          "shell.execute_reply": "2021-11-25T08:28:50.749284Z",
          "shell.execute_reply.started": "2021-11-25T05:05:15.794585Z"
        },
        "papermill": {
          "duration": 0.031188,
          "end_time": "2021-11-25T08:28:50.749487",
          "exception": false,
          "start_time": "2021-11-25T08:28:50.718299",
          "status": "completed"
        },
        "tags": [],
        "id": "f4123c7e",
        "outputId": "0843568f-227b-482e-d259-585ac2282922"
      },
      "outputs": [
        {
          "name": "stdout",
          "output_type": "stream",
          "text": [
            "00-damage\n",
            "01-whole\n",
            "1840\n"
          ]
        }
      ],
      "source": [
        "print(dataset.classes[0])\n",
        "print(dataset.classes[1])\n",
        "print(len(dataset))"
      ]
    },
    {
      "cell_type": "code",
      "execution_count": null,
      "id": "83e2b7ea",
      "metadata": {
        "execution": {
          "iopub.execute_input": "2021-11-25T08:28:50.802581Z",
          "iopub.status.busy": "2021-11-25T08:28:50.801725Z",
          "iopub.status.idle": "2021-11-25T08:28:50.805673Z",
          "shell.execute_reply": "2021-11-25T08:28:50.806423Z",
          "shell.execute_reply.started": "2021-11-25T05:05:15.887181Z"
        },
        "papermill": {
          "duration": 0.033245,
          "end_time": "2021-11-25T08:28:50.806597",
          "exception": false,
          "start_time": "2021-11-25T08:28:50.773352",
          "status": "completed"
        },
        "tags": [],
        "id": "83e2b7ea",
        "outputId": "568219b3-af96-4ddb-f2d1-39c3922f7451"
      },
      "outputs": [
        {
          "name": "stdout",
          "output_type": "stream",
          "text": [
            "[  23 1360  775  669 1209]\n"
          ]
        }
      ],
      "source": [
        "val_num= int(len(dataset)*0.3)\n",
        "index = np.random.permutation(len(dataset))\n",
        "val_idx = index[:val_num]\n",
        "train_idx = index[val_num:]\n",
        "print(val_idx[:5])"
      ]
    },
    {
      "cell_type": "code",
      "execution_count": null,
      "id": "c33b7ee4",
      "metadata": {
        "execution": {
          "iopub.execute_input": "2021-11-25T08:28:50.859731Z",
          "iopub.status.busy": "2021-11-25T08:28:50.858844Z",
          "iopub.status.idle": "2021-11-25T08:28:50.860945Z",
          "shell.execute_reply": "2021-11-25T08:28:50.861416Z",
          "shell.execute_reply.started": "2021-11-25T05:05:16.055413Z"
        },
        "papermill": {
          "duration": 0.030939,
          "end_time": "2021-11-25T08:28:50.861551",
          "exception": false,
          "start_time": "2021-11-25T08:28:50.830612",
          "status": "completed"
        },
        "tags": [],
        "id": "c33b7ee4"
      },
      "outputs": [],
      "source": [
        "batch_size = 16\n",
        "\n",
        "train_sampler = SubsetRandomSampler(train_idx)\n",
        "train_df = DataLoader(dataset,batch_size = batch_size,sampler = train_sampler)\n",
        "\n",
        "val_sampler = SubsetRandomSampler(val_idx)\n",
        "val_df = DataLoader(dataset,batch_size=batch_size,sampler = val_sampler)"
      ]
    },
    {
      "cell_type": "code",
      "execution_count": null,
      "id": "f83da9cb",
      "metadata": {
        "execution": {
          "iopub.execute_input": "2021-11-25T08:28:50.915261Z",
          "iopub.status.busy": "2021-11-25T08:28:50.914564Z",
          "iopub.status.idle": "2021-11-25T08:28:51.274807Z",
          "shell.execute_reply": "2021-11-25T08:28:51.274320Z",
          "shell.execute_reply.started": "2021-11-25T05:05:16.255416Z"
        },
        "papermill": {
          "duration": 0.390631,
          "end_time": "2021-11-25T08:28:51.274934",
          "exception": false,
          "start_time": "2021-11-25T08:28:50.884303",
          "status": "completed"
        },
        "tags": [],
        "id": "f83da9cb"
      },
      "outputs": [],
      "source": [
        "class Model(nn.Module):\n",
        "    def __init__(self, model_name='resnext50_32x4d', pretrained=False):\n",
        "        super().__init__()\n",
        "        self.model = timm.create_model(model_name, pretrained=pretrained)\n",
        "        n_features = self.model.fc.in_features\n",
        "        self.model.fc = nn.Linear(n_features, 2)\n",
        "\n",
        "    def forward(self, x):\n",
        "        x = self.model(x)\n",
        "        return x\n",
        "    \n",
        "model = Model()"
      ]
    },
    {
      "cell_type": "code",
      "execution_count": null,
      "id": "d22ad332",
      "metadata": {
        "execution": {
          "iopub.execute_input": "2021-11-25T08:28:51.373036Z",
          "iopub.status.busy": "2021-11-25T08:28:51.369997Z",
          "iopub.status.idle": "2021-11-25T08:28:55.656169Z",
          "shell.execute_reply": "2021-11-25T08:28:55.656588Z",
          "shell.execute_reply.started": "2021-11-25T05:05:16.845119Z"
        },
        "papermill": {
          "duration": 4.357991,
          "end_time": "2021-11-25T08:28:55.656736",
          "exception": false,
          "start_time": "2021-11-25T08:28:51.298745",
          "status": "completed"
        },
        "tags": [],
        "id": "d22ad332",
        "outputId": "bd5ad943-c0ea-4a4f-8995-9fd97c605b7b"
      },
      "outputs": [
        {
          "data": {
            "text/plain": [
              "Model(\n",
              "  (model): ResNet(\n",
              "    (conv1): Conv2d(3, 64, kernel_size=(7, 7), stride=(2, 2), padding=(3, 3), bias=False)\n",
              "    (bn1): BatchNorm2d(64, eps=1e-05, momentum=0.1, affine=True, track_running_stats=True)\n",
              "    (act1): ReLU(inplace=True)\n",
              "    (maxpool): MaxPool2d(kernel_size=3, stride=2, padding=1, dilation=1, ceil_mode=False)\n",
              "    (layer1): Sequential(\n",
              "      (0): Bottleneck(\n",
              "        (conv1): Conv2d(64, 128, kernel_size=(1, 1), stride=(1, 1), bias=False)\n",
              "        (bn1): BatchNorm2d(128, eps=1e-05, momentum=0.1, affine=True, track_running_stats=True)\n",
              "        (act1): ReLU(inplace=True)\n",
              "        (conv2): Conv2d(128, 128, kernel_size=(3, 3), stride=(1, 1), padding=(1, 1), groups=32, bias=False)\n",
              "        (bn2): BatchNorm2d(128, eps=1e-05, momentum=0.1, affine=True, track_running_stats=True)\n",
              "        (act2): ReLU(inplace=True)\n",
              "        (conv3): Conv2d(128, 256, kernel_size=(1, 1), stride=(1, 1), bias=False)\n",
              "        (bn3): BatchNorm2d(256, eps=1e-05, momentum=0.1, affine=True, track_running_stats=True)\n",
              "        (act3): ReLU(inplace=True)\n",
              "        (downsample): Sequential(\n",
              "          (0): Conv2d(64, 256, kernel_size=(1, 1), stride=(1, 1), bias=False)\n",
              "          (1): BatchNorm2d(256, eps=1e-05, momentum=0.1, affine=True, track_running_stats=True)\n",
              "        )\n",
              "      )\n",
              "      (1): Bottleneck(\n",
              "        (conv1): Conv2d(256, 128, kernel_size=(1, 1), stride=(1, 1), bias=False)\n",
              "        (bn1): BatchNorm2d(128, eps=1e-05, momentum=0.1, affine=True, track_running_stats=True)\n",
              "        (act1): ReLU(inplace=True)\n",
              "        (conv2): Conv2d(128, 128, kernel_size=(3, 3), stride=(1, 1), padding=(1, 1), groups=32, bias=False)\n",
              "        (bn2): BatchNorm2d(128, eps=1e-05, momentum=0.1, affine=True, track_running_stats=True)\n",
              "        (act2): ReLU(inplace=True)\n",
              "        (conv3): Conv2d(128, 256, kernel_size=(1, 1), stride=(1, 1), bias=False)\n",
              "        (bn3): BatchNorm2d(256, eps=1e-05, momentum=0.1, affine=True, track_running_stats=True)\n",
              "        (act3): ReLU(inplace=True)\n",
              "      )\n",
              "      (2): Bottleneck(\n",
              "        (conv1): Conv2d(256, 128, kernel_size=(1, 1), stride=(1, 1), bias=False)\n",
              "        (bn1): BatchNorm2d(128, eps=1e-05, momentum=0.1, affine=True, track_running_stats=True)\n",
              "        (act1): ReLU(inplace=True)\n",
              "        (conv2): Conv2d(128, 128, kernel_size=(3, 3), stride=(1, 1), padding=(1, 1), groups=32, bias=False)\n",
              "        (bn2): BatchNorm2d(128, eps=1e-05, momentum=0.1, affine=True, track_running_stats=True)\n",
              "        (act2): ReLU(inplace=True)\n",
              "        (conv3): Conv2d(128, 256, kernel_size=(1, 1), stride=(1, 1), bias=False)\n",
              "        (bn3): BatchNorm2d(256, eps=1e-05, momentum=0.1, affine=True, track_running_stats=True)\n",
              "        (act3): ReLU(inplace=True)\n",
              "      )\n",
              "    )\n",
              "    (layer2): Sequential(\n",
              "      (0): Bottleneck(\n",
              "        (conv1): Conv2d(256, 256, kernel_size=(1, 1), stride=(1, 1), bias=False)\n",
              "        (bn1): BatchNorm2d(256, eps=1e-05, momentum=0.1, affine=True, track_running_stats=True)\n",
              "        (act1): ReLU(inplace=True)\n",
              "        (conv2): Conv2d(256, 256, kernel_size=(3, 3), stride=(2, 2), padding=(1, 1), groups=32, bias=False)\n",
              "        (bn2): BatchNorm2d(256, eps=1e-05, momentum=0.1, affine=True, track_running_stats=True)\n",
              "        (act2): ReLU(inplace=True)\n",
              "        (conv3): Conv2d(256, 512, kernel_size=(1, 1), stride=(1, 1), bias=False)\n",
              "        (bn3): BatchNorm2d(512, eps=1e-05, momentum=0.1, affine=True, track_running_stats=True)\n",
              "        (act3): ReLU(inplace=True)\n",
              "        (downsample): Sequential(\n",
              "          (0): Conv2d(256, 512, kernel_size=(1, 1), stride=(2, 2), bias=False)\n",
              "          (1): BatchNorm2d(512, eps=1e-05, momentum=0.1, affine=True, track_running_stats=True)\n",
              "        )\n",
              "      )\n",
              "      (1): Bottleneck(\n",
              "        (conv1): Conv2d(512, 256, kernel_size=(1, 1), stride=(1, 1), bias=False)\n",
              "        (bn1): BatchNorm2d(256, eps=1e-05, momentum=0.1, affine=True, track_running_stats=True)\n",
              "        (act1): ReLU(inplace=True)\n",
              "        (conv2): Conv2d(256, 256, kernel_size=(3, 3), stride=(1, 1), padding=(1, 1), groups=32, bias=False)\n",
              "        (bn2): BatchNorm2d(256, eps=1e-05, momentum=0.1, affine=True, track_running_stats=True)\n",
              "        (act2): ReLU(inplace=True)\n",
              "        (conv3): Conv2d(256, 512, kernel_size=(1, 1), stride=(1, 1), bias=False)\n",
              "        (bn3): BatchNorm2d(512, eps=1e-05, momentum=0.1, affine=True, track_running_stats=True)\n",
              "        (act3): ReLU(inplace=True)\n",
              "      )\n",
              "      (2): Bottleneck(\n",
              "        (conv1): Conv2d(512, 256, kernel_size=(1, 1), stride=(1, 1), bias=False)\n",
              "        (bn1): BatchNorm2d(256, eps=1e-05, momentum=0.1, affine=True, track_running_stats=True)\n",
              "        (act1): ReLU(inplace=True)\n",
              "        (conv2): Conv2d(256, 256, kernel_size=(3, 3), stride=(1, 1), padding=(1, 1), groups=32, bias=False)\n",
              "        (bn2): BatchNorm2d(256, eps=1e-05, momentum=0.1, affine=True, track_running_stats=True)\n",
              "        (act2): ReLU(inplace=True)\n",
              "        (conv3): Conv2d(256, 512, kernel_size=(1, 1), stride=(1, 1), bias=False)\n",
              "        (bn3): BatchNorm2d(512, eps=1e-05, momentum=0.1, affine=True, track_running_stats=True)\n",
              "        (act3): ReLU(inplace=True)\n",
              "      )\n",
              "      (3): Bottleneck(\n",
              "        (conv1): Conv2d(512, 256, kernel_size=(1, 1), stride=(1, 1), bias=False)\n",
              "        (bn1): BatchNorm2d(256, eps=1e-05, momentum=0.1, affine=True, track_running_stats=True)\n",
              "        (act1): ReLU(inplace=True)\n",
              "        (conv2): Conv2d(256, 256, kernel_size=(3, 3), stride=(1, 1), padding=(1, 1), groups=32, bias=False)\n",
              "        (bn2): BatchNorm2d(256, eps=1e-05, momentum=0.1, affine=True, track_running_stats=True)\n",
              "        (act2): ReLU(inplace=True)\n",
              "        (conv3): Conv2d(256, 512, kernel_size=(1, 1), stride=(1, 1), bias=False)\n",
              "        (bn3): BatchNorm2d(512, eps=1e-05, momentum=0.1, affine=True, track_running_stats=True)\n",
              "        (act3): ReLU(inplace=True)\n",
              "      )\n",
              "    )\n",
              "    (layer3): Sequential(\n",
              "      (0): Bottleneck(\n",
              "        (conv1): Conv2d(512, 512, kernel_size=(1, 1), stride=(1, 1), bias=False)\n",
              "        (bn1): BatchNorm2d(512, eps=1e-05, momentum=0.1, affine=True, track_running_stats=True)\n",
              "        (act1): ReLU(inplace=True)\n",
              "        (conv2): Conv2d(512, 512, kernel_size=(3, 3), stride=(2, 2), padding=(1, 1), groups=32, bias=False)\n",
              "        (bn2): BatchNorm2d(512, eps=1e-05, momentum=0.1, affine=True, track_running_stats=True)\n",
              "        (act2): ReLU(inplace=True)\n",
              "        (conv3): Conv2d(512, 1024, kernel_size=(1, 1), stride=(1, 1), bias=False)\n",
              "        (bn3): BatchNorm2d(1024, eps=1e-05, momentum=0.1, affine=True, track_running_stats=True)\n",
              "        (act3): ReLU(inplace=True)\n",
              "        (downsample): Sequential(\n",
              "          (0): Conv2d(512, 1024, kernel_size=(1, 1), stride=(2, 2), bias=False)\n",
              "          (1): BatchNorm2d(1024, eps=1e-05, momentum=0.1, affine=True, track_running_stats=True)\n",
              "        )\n",
              "      )\n",
              "      (1): Bottleneck(\n",
              "        (conv1): Conv2d(1024, 512, kernel_size=(1, 1), stride=(1, 1), bias=False)\n",
              "        (bn1): BatchNorm2d(512, eps=1e-05, momentum=0.1, affine=True, track_running_stats=True)\n",
              "        (act1): ReLU(inplace=True)\n",
              "        (conv2): Conv2d(512, 512, kernel_size=(3, 3), stride=(1, 1), padding=(1, 1), groups=32, bias=False)\n",
              "        (bn2): BatchNorm2d(512, eps=1e-05, momentum=0.1, affine=True, track_running_stats=True)\n",
              "        (act2): ReLU(inplace=True)\n",
              "        (conv3): Conv2d(512, 1024, kernel_size=(1, 1), stride=(1, 1), bias=False)\n",
              "        (bn3): BatchNorm2d(1024, eps=1e-05, momentum=0.1, affine=True, track_running_stats=True)\n",
              "        (act3): ReLU(inplace=True)\n",
              "      )\n",
              "      (2): Bottleneck(\n",
              "        (conv1): Conv2d(1024, 512, kernel_size=(1, 1), stride=(1, 1), bias=False)\n",
              "        (bn1): BatchNorm2d(512, eps=1e-05, momentum=0.1, affine=True, track_running_stats=True)\n",
              "        (act1): ReLU(inplace=True)\n",
              "        (conv2): Conv2d(512, 512, kernel_size=(3, 3), stride=(1, 1), padding=(1, 1), groups=32, bias=False)\n",
              "        (bn2): BatchNorm2d(512, eps=1e-05, momentum=0.1, affine=True, track_running_stats=True)\n",
              "        (act2): ReLU(inplace=True)\n",
              "        (conv3): Conv2d(512, 1024, kernel_size=(1, 1), stride=(1, 1), bias=False)\n",
              "        (bn3): BatchNorm2d(1024, eps=1e-05, momentum=0.1, affine=True, track_running_stats=True)\n",
              "        (act3): ReLU(inplace=True)\n",
              "      )\n",
              "      (3): Bottleneck(\n",
              "        (conv1): Conv2d(1024, 512, kernel_size=(1, 1), stride=(1, 1), bias=False)\n",
              "        (bn1): BatchNorm2d(512, eps=1e-05, momentum=0.1, affine=True, track_running_stats=True)\n",
              "        (act1): ReLU(inplace=True)\n",
              "        (conv2): Conv2d(512, 512, kernel_size=(3, 3), stride=(1, 1), padding=(1, 1), groups=32, bias=False)\n",
              "        (bn2): BatchNorm2d(512, eps=1e-05, momentum=0.1, affine=True, track_running_stats=True)\n",
              "        (act2): ReLU(inplace=True)\n",
              "        (conv3): Conv2d(512, 1024, kernel_size=(1, 1), stride=(1, 1), bias=False)\n",
              "        (bn3): BatchNorm2d(1024, eps=1e-05, momentum=0.1, affine=True, track_running_stats=True)\n",
              "        (act3): ReLU(inplace=True)\n",
              "      )\n",
              "      (4): Bottleneck(\n",
              "        (conv1): Conv2d(1024, 512, kernel_size=(1, 1), stride=(1, 1), bias=False)\n",
              "        (bn1): BatchNorm2d(512, eps=1e-05, momentum=0.1, affine=True, track_running_stats=True)\n",
              "        (act1): ReLU(inplace=True)\n",
              "        (conv2): Conv2d(512, 512, kernel_size=(3, 3), stride=(1, 1), padding=(1, 1), groups=32, bias=False)\n",
              "        (bn2): BatchNorm2d(512, eps=1e-05, momentum=0.1, affine=True, track_running_stats=True)\n",
              "        (act2): ReLU(inplace=True)\n",
              "        (conv3): Conv2d(512, 1024, kernel_size=(1, 1), stride=(1, 1), bias=False)\n",
              "        (bn3): BatchNorm2d(1024, eps=1e-05, momentum=0.1, affine=True, track_running_stats=True)\n",
              "        (act3): ReLU(inplace=True)\n",
              "      )\n",
              "      (5): Bottleneck(\n",
              "        (conv1): Conv2d(1024, 512, kernel_size=(1, 1), stride=(1, 1), bias=False)\n",
              "        (bn1): BatchNorm2d(512, eps=1e-05, momentum=0.1, affine=True, track_running_stats=True)\n",
              "        (act1): ReLU(inplace=True)\n",
              "        (conv2): Conv2d(512, 512, kernel_size=(3, 3), stride=(1, 1), padding=(1, 1), groups=32, bias=False)\n",
              "        (bn2): BatchNorm2d(512, eps=1e-05, momentum=0.1, affine=True, track_running_stats=True)\n",
              "        (act2): ReLU(inplace=True)\n",
              "        (conv3): Conv2d(512, 1024, kernel_size=(1, 1), stride=(1, 1), bias=False)\n",
              "        (bn3): BatchNorm2d(1024, eps=1e-05, momentum=0.1, affine=True, track_running_stats=True)\n",
              "        (act3): ReLU(inplace=True)\n",
              "      )\n",
              "    )\n",
              "    (layer4): Sequential(\n",
              "      (0): Bottleneck(\n",
              "        (conv1): Conv2d(1024, 1024, kernel_size=(1, 1), stride=(1, 1), bias=False)\n",
              "        (bn1): BatchNorm2d(1024, eps=1e-05, momentum=0.1, affine=True, track_running_stats=True)\n",
              "        (act1): ReLU(inplace=True)\n",
              "        (conv2): Conv2d(1024, 1024, kernel_size=(3, 3), stride=(2, 2), padding=(1, 1), groups=32, bias=False)\n",
              "        (bn2): BatchNorm2d(1024, eps=1e-05, momentum=0.1, affine=True, track_running_stats=True)\n",
              "        (act2): ReLU(inplace=True)\n",
              "        (conv3): Conv2d(1024, 2048, kernel_size=(1, 1), stride=(1, 1), bias=False)\n",
              "        (bn3): BatchNorm2d(2048, eps=1e-05, momentum=0.1, affine=True, track_running_stats=True)\n",
              "        (act3): ReLU(inplace=True)\n",
              "        (downsample): Sequential(\n",
              "          (0): Conv2d(1024, 2048, kernel_size=(1, 1), stride=(2, 2), bias=False)\n",
              "          (1): BatchNorm2d(2048, eps=1e-05, momentum=0.1, affine=True, track_running_stats=True)\n",
              "        )\n",
              "      )\n",
              "      (1): Bottleneck(\n",
              "        (conv1): Conv2d(2048, 1024, kernel_size=(1, 1), stride=(1, 1), bias=False)\n",
              "        (bn1): BatchNorm2d(1024, eps=1e-05, momentum=0.1, affine=True, track_running_stats=True)\n",
              "        (act1): ReLU(inplace=True)\n",
              "        (conv2): Conv2d(1024, 1024, kernel_size=(3, 3), stride=(1, 1), padding=(1, 1), groups=32, bias=False)\n",
              "        (bn2): BatchNorm2d(1024, eps=1e-05, momentum=0.1, affine=True, track_running_stats=True)\n",
              "        (act2): ReLU(inplace=True)\n",
              "        (conv3): Conv2d(1024, 2048, kernel_size=(1, 1), stride=(1, 1), bias=False)\n",
              "        (bn3): BatchNorm2d(2048, eps=1e-05, momentum=0.1, affine=True, track_running_stats=True)\n",
              "        (act3): ReLU(inplace=True)\n",
              "      )\n",
              "      (2): Bottleneck(\n",
              "        (conv1): Conv2d(2048, 1024, kernel_size=(1, 1), stride=(1, 1), bias=False)\n",
              "        (bn1): BatchNorm2d(1024, eps=1e-05, momentum=0.1, affine=True, track_running_stats=True)\n",
              "        (act1): ReLU(inplace=True)\n",
              "        (conv2): Conv2d(1024, 1024, kernel_size=(3, 3), stride=(1, 1), padding=(1, 1), groups=32, bias=False)\n",
              "        (bn2): BatchNorm2d(1024, eps=1e-05, momentum=0.1, affine=True, track_running_stats=True)\n",
              "        (act2): ReLU(inplace=True)\n",
              "        (conv3): Conv2d(1024, 2048, kernel_size=(1, 1), stride=(1, 1), bias=False)\n",
              "        (bn3): BatchNorm2d(2048, eps=1e-05, momentum=0.1, affine=True, track_running_stats=True)\n",
              "        (act3): ReLU(inplace=True)\n",
              "      )\n",
              "    )\n",
              "    (global_pool): SelectAdaptivePool2d (pool_type=avg, flatten=Flatten(start_dim=1, end_dim=-1))\n",
              "    (fc): Linear(in_features=2048, out_features=2, bias=True)\n",
              "  )\n",
              ")"
            ]
          },
          "execution_count": 16,
          "metadata": {},
          "output_type": "execute_result"
        }
      ],
      "source": [
        "if torch.cuda.is_available():\n",
        "    device = torch.device(\"cuda\")\n",
        "else:\n",
        "    device = torch.device(\"cpu\")\n",
        "\n",
        "model.to(device)"
      ]
    },
    {
      "cell_type": "code",
      "execution_count": null,
      "id": "8e10816e",
      "metadata": {
        "execution": {
          "iopub.execute_input": "2021-11-25T08:28:55.710803Z",
          "iopub.status.busy": "2021-11-25T08:28:55.709986Z",
          "iopub.status.idle": "2021-11-25T08:28:55.711775Z",
          "shell.execute_reply": "2021-11-25T08:28:55.712301Z",
          "shell.execute_reply.started": "2021-11-25T05:05:16.906008Z"
        },
        "papermill": {
          "duration": 0.032026,
          "end_time": "2021-11-25T08:28:55.712449",
          "exception": false,
          "start_time": "2021-11-25T08:28:55.680423",
          "status": "completed"
        },
        "tags": [],
        "id": "8e10816e"
      },
      "outputs": [],
      "source": [
        "loss_type = nn.CrossEntropyLoss()\n",
        "optimizer = torch.optim.Adam(model.parameters(), lr=0.005)"
      ]
    },
    {
      "cell_type": "code",
      "execution_count": null,
      "id": "8b6ce393",
      "metadata": {
        "execution": {
          "iopub.execute_input": "2021-11-25T08:28:55.767414Z",
          "iopub.status.busy": "2021-11-25T08:28:55.766798Z",
          "iopub.status.idle": "2021-11-25T08:58:53.607820Z",
          "shell.execute_reply": "2021-11-25T08:58:53.608305Z",
          "shell.execute_reply.started": "2021-11-25T05:05:16.91676Z"
        },
        "papermill": {
          "duration": 1797.87223,
          "end_time": "2021-11-25T08:58:53.608513",
          "exception": false,
          "start_time": "2021-11-25T08:28:55.736283",
          "status": "completed"
        },
        "tags": [],
        "id": "8b6ce393",
        "outputId": "f657224f-41fc-4aab-b934-88e83f256d8e"
      },
      "outputs": [
        {
          "name": "stdout",
          "output_type": "stream",
          "text": [
            "epoch:  1\n"
          ]
        }
      ],
      "source": [
        "loss_val = []\n",
        "for epoch in range(1):\n",
        "    \n",
        "    print(\"epoch: \" , epoch+1)\n",
        "    running_loss = 0\n",
        "    for(i,data) in enumerate(train_df):\n",
        "        img,label = data\n",
        "        img,label = img.to(device),label.to(device)\n",
        "        \n",
        "        optimizer.zero_grad()\n",
        "        \n",
        "        output_label = model(img)\n",
        "        \n",
        "        loss = loss_type(output_label,label)\n",
        "        \n",
        "        loss.backward()\n",
        "        \n",
        "        optimizer.step()\n",
        "        running_loss = running_loss + loss.item()*img.size(0)\n",
        "    \n",
        "    loss_val.append(running_loss/len(train_df))\n",
        "    \n",
        "    print(running_loss)\n",
        "\n",
        "plt.plot(loss_val,label=\"loss\")\n",
        "plt.legend()"
      ]
    },
    {
      "cell_type": "code",
      "execution_count": null,
      "id": "b4aa0f11",
      "metadata": {
        "execution": {
          "iopub.execute_input": "2021-11-25T08:58:53.742967Z",
          "iopub.status.busy": "2021-11-25T08:58:53.738995Z",
          "iopub.status.idle": "2021-11-25T08:59:01.305342Z",
          "shell.execute_reply": "2021-11-25T08:59:01.305809Z",
          "shell.execute_reply.started": "2021-11-25T05:15:45.587592Z"
        },
        "papermill": {
          "duration": 7.633877,
          "end_time": "2021-11-25T08:59:01.305974",
          "exception": false,
          "start_time": "2021-11-25T08:58:53.672097",
          "status": "completed"
        },
        "tags": [],
        "id": "b4aa0f11"
      },
      "outputs": [],
      "source": [
        "preds = []\n",
        "labels = []\n",
        "\n",
        "with torch.no_grad():\n",
        "    for data in val_df:\n",
        "        img,label = data\n",
        "        img,label = img.to(device),label.to(device)\n",
        "        \n",
        "        output = model(img)\n",
        "        _,predicted = torch.max(output,dim=1)\n",
        "        \n",
        "        \n",
        "        preds.extend(predicted.cpu().detach().numpy())\n",
        "        labels.extend(label.cpu().detach().numpy())\n",
        "    \n",
        "print(\"Accuracy: {}\".format(accuracy_score(labels,preds)) )"
      ]
    },
    {
      "cell_type": "code",
      "execution_count": null,
      "id": "5183f539",
      "metadata": {
        "execution": {
          "iopub.execute_input": "2021-11-25T08:59:01.430482Z",
          "iopub.status.busy": "2021-11-25T08:59:01.429905Z",
          "iopub.status.idle": "2021-11-25T08:59:01.604361Z",
          "shell.execute_reply": "2021-11-25T08:59:01.603814Z",
          "shell.execute_reply.started": "2021-11-25T05:15:49.3907Z"
        },
        "papermill": {
          "duration": 0.238375,
          "end_time": "2021-11-25T08:59:01.604506",
          "exception": false,
          "start_time": "2021-11-25T08:59:01.366131",
          "status": "completed"
        },
        "tags": [],
        "id": "5183f539"
      },
      "outputs": [],
      "source": [
        "model_path = \"Resnext_model.pkl\"\n",
        "with open(model_path,'wb') as f:\n",
        "    pickle.dump(model,f)"
      ]
    },
    {
      "cell_type": "code",
      "execution_count": null,
      "id": "5e464e0d",
      "metadata": {
        "execution": {
          "iopub.execute_input": "2021-11-25T08:59:01.733889Z",
          "iopub.status.busy": "2021-11-25T08:59:01.733241Z",
          "iopub.status.idle": "2021-11-25T08:59:01.882980Z",
          "shell.execute_reply": "2021-11-25T08:59:01.882374Z",
          "shell.execute_reply.started": "2021-11-25T05:15:49.62296Z"
        },
        "papermill": {
          "duration": 0.217831,
          "end_time": "2021-11-25T08:59:01.883165",
          "exception": false,
          "start_time": "2021-11-25T08:59:01.665334",
          "status": "completed"
        },
        "tags": [],
        "id": "5e464e0d"
      },
      "outputs": [],
      "source": [
        "with open(model_path,'rb') as f:\n",
        "    model = pickle.load(f)"
      ]
    },
    {
      "cell_type": "code",
      "execution_count": null,
      "id": "a734e1c5",
      "metadata": {
        "execution": {
          "iopub.execute_input": "2021-11-25T08:59:02.008352Z",
          "iopub.status.busy": "2021-11-25T08:59:02.007789Z",
          "iopub.status.idle": "2021-11-25T08:59:02.140224Z",
          "shell.execute_reply": "2021-11-25T08:59:02.139189Z",
          "shell.execute_reply.started": "2021-11-25T05:15:49.750531Z"
        },
        "papermill": {
          "duration": 0.198001,
          "end_time": "2021-11-25T08:59:02.140346",
          "exception": false,
          "start_time": "2021-11-25T08:59:01.942345",
          "status": "completed"
        },
        "tags": [],
        "id": "a734e1c5"
      },
      "outputs": [],
      "source": [
        "test_dir = \"../input/car-damage-detection/data1a/validation\"\n",
        "\n",
        "transform=transforms.Compose([\n",
        "                              transforms.Resize([128,128]),\n",
        "                              transforms.RandomHorizontalFlip(p=0.5),\n",
        "                              transforms.RandomVerticalFlip(p=0.5),\n",
        "                              transforms.ToTensor()\n",
        "])\n",
        "test_data = ImageFolder(test_dir,transform = transform)"
      ]
    },
    {
      "cell_type": "code",
      "execution_count": null,
      "id": "3417019b",
      "metadata": {
        "execution": {
          "iopub.execute_input": "2021-11-25T08:59:02.278762Z",
          "iopub.status.busy": "2021-11-25T08:59:02.277963Z",
          "iopub.status.idle": "2021-11-25T08:59:02.279732Z",
          "shell.execute_reply": "2021-11-25T08:59:02.280182Z",
          "shell.execute_reply.started": "2021-11-25T05:15:49.763755Z"
        },
        "papermill": {
          "duration": 0.068557,
          "end_time": "2021-11-25T08:59:02.280317",
          "exception": false,
          "start_time": "2021-11-25T08:59:02.211760",
          "status": "completed"
        },
        "tags": [],
        "id": "3417019b"
      },
      "outputs": [],
      "source": [
        "batch_size = 32\n",
        "\n",
        "test_df = DataLoader(test_data,batch_size)"
      ]
    },
    {
      "cell_type": "code",
      "execution_count": null,
      "id": "74e5399a",
      "metadata": {
        "execution": {
          "iopub.execute_input": "2021-11-25T08:59:02.405876Z",
          "iopub.status.busy": "2021-11-25T08:59:02.405181Z",
          "iopub.status.idle": "2021-11-25T08:59:07.791167Z",
          "shell.execute_reply": "2021-11-25T08:59:07.791670Z",
          "shell.execute_reply.started": "2021-11-25T05:15:49.770807Z"
        },
        "papermill": {
          "duration": 5.452026,
          "end_time": "2021-11-25T08:59:07.791823",
          "exception": false,
          "start_time": "2021-11-25T08:59:02.339797",
          "status": "completed"
        },
        "tags": [],
        "id": "74e5399a"
      },
      "outputs": [],
      "source": [
        "preds = []\n",
        "labels = []\n",
        "\n",
        "with torch.no_grad():\n",
        "    for data in test_df:\n",
        "        img,label = data\n",
        "        img,label = img.to(device),label.to(device)\n",
        "        output = model(img)\n",
        "        _,predicted = torch.max(output,dim=1)\n",
        "        \n",
        "        preds.extend(predicted.cpu().detach().numpy())\n",
        "        labels.extend(label.cpu().detach().numpy())\n",
        "        \n",
        "print(f\"Accuracy for test data : {accuracy_score(preds,labels)}\")"
      ]
    },
    {
      "cell_type": "code",
      "execution_count": null,
      "id": "7c806973",
      "metadata": {
        "papermill": {
          "duration": 0.060604,
          "end_time": "2021-11-25T08:59:07.913632",
          "exception": false,
          "start_time": "2021-11-25T08:59:07.853028",
          "status": "completed"
        },
        "tags": [],
        "id": "7c806973"
      },
      "outputs": [],
      "source": [
        ""
      ]
    },
    {
      "cell_type": "code",
      "execution_count": null,
      "id": "3ffa79d6",
      "metadata": {
        "id": "3ffa79d6"
      },
      "outputs": [],
      "source": [
        ""
      ]
    },
    {
      "cell_type": "code",
      "execution_count": null,
      "id": "7b7f4626",
      "metadata": {
        "id": "7b7f4626"
      },
      "outputs": [],
      "source": [
        ""
      ]
    },
    {
      "cell_type": "code",
      "execution_count": null,
      "id": "b8fbf830",
      "metadata": {
        "id": "b8fbf830"
      },
      "outputs": [],
      "source": [
        ""
      ]
    },
    {
      "cell_type": "code",
      "execution_count": null,
      "id": "6cf7ea06",
      "metadata": {
        "id": "6cf7ea06"
      },
      "outputs": [],
      "source": [
        ""
      ]
    },
    {
      "cell_type": "code",
      "execution_count": null,
      "id": "f219a21d",
      "metadata": {
        "id": "f219a21d"
      },
      "outputs": [],
      "source": [
        ""
      ]
    },
    {
      "cell_type": "code",
      "execution_count": null,
      "id": "79531f39",
      "metadata": {
        "id": "79531f39"
      },
      "outputs": [],
      "source": [
        ""
      ]
    },
    {
      "cell_type": "code",
      "execution_count": null,
      "id": "9749a753",
      "metadata": {
        "id": "9749a753"
      },
      "outputs": [],
      "source": [
        ""
      ]
    }
  ],
  "metadata": {
    "kernelspec": {
      "display_name": "Python 3 (ipykernel)",
      "language": "python",
      "name": "python3"
    },
    "language_info": {
      "codemirror_mode": {
        "name": "ipython",
        "version": 3
      },
      "file_extension": ".py",
      "mimetype": "text/x-python",
      "name": "python",
      "nbconvert_exporter": "python",
      "pygments_lexer": "ipython3",
      "version": "3.9.9"
    },
    "papermill": {
      "default_parameters": {},
      "duration": 1848.178999,
      "end_time": "2021-11-25T08:59:10.980227",
      "environment_variables": {},
      "exception": null,
      "input_path": "__notebook__.ipynb",
      "output_path": "__notebook__.ipynb",
      "parameters": {},
      "start_time": "2021-11-25T08:28:22.801228",
      "version": "2.3.3"
    },
    "colab": {
      "name": "car-damage-detection.ipynb",
      "provenance": [],
      "include_colab_link": true
    }
  },
  "nbformat": 4,
  "nbformat_minor": 5
}